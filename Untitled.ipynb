{
 "cells": [
  {
   "cell_type": "code",
   "execution_count": 2,
   "id": "6f3a10bd",
   "metadata": {},
   "outputs": [
    {
     "name": "stdout",
     "output_type": "stream",
     "text": [
      "Intercept value: 3.2941036551619103\n"
     ]
    }
   ],
   "source": [
    "import pandas as pd\n",
    "from sklearn.model_selection import train_test_split\n",
    "from sklearn.linear_model import LinearRegression\n",
    "\n",
    "# Step 1: Load the data set\n",
    "data = pd.read_csv('rand-dollar.csv', index_col=0)\n",
    "\n",
    "# Step 2: Separate the data set into X (features) and y (targets)\n",
    "X = data.drop('ZAR/USD', axis=1)  # Predictors\n",
    "y = data['ZAR/USD']  # Target variable\n",
    "\n",
    "# Step 3: Create an 80/20 split between train and test sets\n",
    "X_train, X_test, y_train, y_test = train_test_split(X, y, test_size=0.2, shuffle=False)\n",
    "\n",
    "# Step 4: Train a simple linear regression model\n",
    "lm = LinearRegression()\n",
    "lm.fit(X_train[['Value of Exports (ZAR)']], y_train)\n",
    "intercept_value = lm.intercept_\n",
    "print(\"Intercept value:\", intercept_value)"
   ]
  },
  {
   "cell_type": "code",
   "execution_count": 3,
   "id": "05166420",
   "metadata": {},
   "outputs": [
    {
     "name": "stdout",
     "output_type": "stream",
     "text": [
      "Slope value: [8.67712634e-05]\n"
     ]
    }
   ],
   "source": [
    "slope_value = lm.coef_\n",
    "print(\"Slope value:\", slope_value)"
   ]
  },
  {
   "cell_type": "code",
   "execution_count": 4,
   "id": "9d46c3ca",
   "metadata": {},
   "outputs": [
    {
     "name": "stdout",
     "output_type": "stream",
     "text": [
      "Predicted exchange rate: [11.97122999]\n"
     ]
    },
    {
     "name": "stderr",
     "output_type": "stream",
     "text": [
      "C:\\Users\\HP PAVILION\\anaconda3\\lib\\site-packages\\sklearn\\base.py:439: UserWarning: X does not have valid feature names, but LinearRegression was fitted with feature names\n",
      "  warnings.warn(\n"
     ]
    }
   ],
   "source": [
    "import numpy as np\n",
    "\n",
    "exports_value = 100000  # Total exports in Rands\n",
    "\n",
    "# Reshape the exports value to match the shape expected by the model\n",
    "exports_value_reshaped = np.array(exports_value).reshape(1, -1)\n",
    "\n",
    "# Use the trained linear regression model to predict the exchange rate\n",
    "predicted_exchange_rate = lm.predict(exports_value_reshaped)\n",
    "\n",
    "print(\"Predicted exchange rate:\", predicted_exchange_rate)"
   ]
  },
  {
   "cell_type": "code",
   "execution_count": 5,
   "id": "8dd433bc",
   "metadata": {},
   "outputs": [
    {
     "name": "stdout",
     "output_type": "stream",
     "text": [
      "Mean Squared Error (MSE): 8.221852113297063\n"
     ]
    }
   ],
   "source": [
    "from sklearn.metrics import mean_squared_error\n",
    "\n",
    "# Predict the target variable using the trained model on the test set\n",
    "y_pred = lm.predict(X_test[['Value of Exports (ZAR)']])\n",
    "\n",
    "# Calculate the MSE\n",
    "mse = mean_squared_error(y_test, y_pred)\n",
    "print(\"Mean Squared Error (MSE):\", mse)\n"
   ]
  },
  {
   "cell_type": "code",
   "execution_count": 6,
   "id": "646ca225",
   "metadata": {},
   "outputs": [
    {
     "name": "stdout",
     "output_type": "stream",
     "text": [
      "R-squared value: -8.448868004702911\n"
     ]
    }
   ],
   "source": [
    "# Calculate the R-squared value\n",
    "r_squared = lm.score(X_test[['Value of Exports (ZAR)']], y_test)\n",
    "print(\"R-squared value:\", r_squared)"
   ]
  },
  {
   "cell_type": "code",
   "execution_count": 23,
   "id": "9b41b3b2",
   "metadata": {},
   "outputs": [
    {
     "name": "stdout",
     "output_type": "stream",
     "text": [
      "Predicted exchange rate for August 2017: [12.24882602]\n"
     ]
    },
    {
     "name": "stderr",
     "output_type": "stream",
     "text": [
      "C:\\Users\\HP PAVILION\\anaconda3\\lib\\site-packages\\sklearn\\base.py:439: UserWarning: X does not have valid feature names, but LinearRegression was fitted with feature names\n",
      "  warnings.warn(\n"
     ]
    }
   ],
   "source": [
    "exports_aug_2017 = data.iloc[-5, 2]  \n",
    "# Reshape the exports value to match the shape expected by the model\n",
    "exports_aug_2017_reshaped = np.array(exports_aug_2017).reshape(1, -1)\n",
    "\n",
    "# Use the trained linear regression model to predict the exchange rate\n",
    "predicted_exchange_rate_aug_2017 = lm.predict(exports_aug_2017_reshaped)\n",
    "\n",
    "print(\"Predicted exchange rate for August 2017:\", predicted_exchange_rate_aug_2017)"
   ]
  },
  {
   "cell_type": "code",
   "execution_count": 24,
   "id": "665dc24e",
   "metadata": {},
   "outputs": [
    {
     "data": {
      "text/html": [
       "<div>\n",
       "<style scoped>\n",
       "    .dataframe tbody tr th:only-of-type {\n",
       "        vertical-align: middle;\n",
       "    }\n",
       "\n",
       "    .dataframe tbody tr th {\n",
       "        vertical-align: top;\n",
       "    }\n",
       "\n",
       "    .dataframe thead th {\n",
       "        text-align: right;\n",
       "    }\n",
       "</style>\n",
       "<table border=\"1\" class=\"dataframe\">\n",
       "  <thead>\n",
       "    <tr style=\"text-align: right;\">\n",
       "      <th></th>\n",
       "      <th>ZAR/USD</th>\n",
       "      <th>Value of Exports (USD)</th>\n",
       "      <th>Value of Exports (ZAR)</th>\n",
       "      <th>Value of Imports (USD)</th>\n",
       "      <th>Value of Imports (ZAR)</th>\n",
       "      <th>IMF Reserve Position (USD)</th>\n",
       "      <th>Foreign Exchange (USD)</th>\n",
       "      <th>Claims on Non-residents (USD)</th>\n",
       "      <th>Liabilities to Non-residents (USD)</th>\n",
       "      <th>Savings Rate</th>\n",
       "      <th>Lending Rate</th>\n",
       "      <th>Government Bonds</th>\n",
       "      <th>Financial Market Prices, Equities Index</th>\n",
       "      <th>Consumer Price Index</th>\n",
       "    </tr>\n",
       "  </thead>\n",
       "  <tbody>\n",
       "    <tr>\n",
       "      <th>2017M08</th>\n",
       "      <td>13.23</td>\n",
       "      <td>7799.19</td>\n",
       "      <td>103199.17</td>\n",
       "      <td>7724.11</td>\n",
       "      <td>102205.79</td>\n",
       "      <td>661.54</td>\n",
       "      <td>38889.0</td>\n",
       "      <td>43768.32</td>\n",
       "      <td>33965.83</td>\n",
       "      <td>4.36</td>\n",
       "      <td>10.25</td>\n",
       "      <td>9.12</td>\n",
       "      <td>167.16</td>\n",
       "      <td>146.40</td>\n",
       "    </tr>\n",
       "    <tr>\n",
       "      <th>2017M09</th>\n",
       "      <td>13.16</td>\n",
       "      <td>7761.13</td>\n",
       "      <td>102150.48</td>\n",
       "      <td>7810.59</td>\n",
       "      <td>102801.49</td>\n",
       "      <td>661.50</td>\n",
       "      <td>41424.0</td>\n",
       "      <td>44318.40</td>\n",
       "      <td>34351.03</td>\n",
       "      <td>4.40</td>\n",
       "      <td>10.25</td>\n",
       "      <td>9.04</td>\n",
       "      <td>168.34</td>\n",
       "      <td>147.11</td>\n",
       "    </tr>\n",
       "    <tr>\n",
       "      <th>2017M10</th>\n",
       "      <td>13.71</td>\n",
       "      <td>7601.50</td>\n",
       "      <td>104205.42</td>\n",
       "      <td>7661.57</td>\n",
       "      <td>105028.95</td>\n",
       "      <td>656.62</td>\n",
       "      <td>41018.0</td>\n",
       "      <td>44003.77</td>\n",
       "      <td>34206.03</td>\n",
       "      <td>4.41</td>\n",
       "      <td>10.25</td>\n",
       "      <td>9.40</td>\n",
       "      <td>175.15</td>\n",
       "      <td>147.53</td>\n",
       "    </tr>\n",
       "    <tr>\n",
       "      <th>2017M11</th>\n",
       "      <td>14.06</td>\n",
       "      <td>8264.55</td>\n",
       "      <td>116185.99</td>\n",
       "      <td>7704.40</td>\n",
       "      <td>108311.23</td>\n",
       "      <td>654.14</td>\n",
       "      <td>42372.0</td>\n",
       "      <td>42813.27</td>\n",
       "      <td>32917.80</td>\n",
       "      <td>4.42</td>\n",
       "      <td>10.25</td>\n",
       "      <td>9.77</td>\n",
       "      <td>178.42</td>\n",
       "      <td>147.67</td>\n",
       "    </tr>\n",
       "    <tr>\n",
       "      <th>2017M12</th>\n",
       "      <td>13.25</td>\n",
       "      <td>7874.08</td>\n",
       "      <td>104320.26</td>\n",
       "      <td>7068.85</td>\n",
       "      <td>93652.18</td>\n",
       "      <td>638.23</td>\n",
       "      <td>42735.0</td>\n",
       "      <td>47101.71</td>\n",
       "      <td>37918.26</td>\n",
       "      <td>4.44</td>\n",
       "      <td>10.25</td>\n",
       "      <td>9.47</td>\n",
       "      <td>170.16</td>\n",
       "      <td>148.38</td>\n",
       "    </tr>\n",
       "  </tbody>\n",
       "</table>\n",
       "</div>"
      ],
      "text/plain": [
       "         ZAR/USD  Value of Exports (USD)  Value of Exports (ZAR)  \\\n",
       "2017M08    13.23                 7799.19               103199.17   \n",
       "2017M09    13.16                 7761.13               102150.48   \n",
       "2017M10    13.71                 7601.50               104205.42   \n",
       "2017M11    14.06                 8264.55               116185.99   \n",
       "2017M12    13.25                 7874.08               104320.26   \n",
       "\n",
       "         Value of Imports (USD)  Value of Imports (ZAR)  \\\n",
       "2017M08                 7724.11               102205.79   \n",
       "2017M09                 7810.59               102801.49   \n",
       "2017M10                 7661.57               105028.95   \n",
       "2017M11                 7704.40               108311.23   \n",
       "2017M12                 7068.85                93652.18   \n",
       "\n",
       "         IMF Reserve Position (USD)  Foreign Exchange (USD)  \\\n",
       "2017M08                      661.54                 38889.0   \n",
       "2017M09                      661.50                 41424.0   \n",
       "2017M10                      656.62                 41018.0   \n",
       "2017M11                      654.14                 42372.0   \n",
       "2017M12                      638.23                 42735.0   \n",
       "\n",
       "         Claims on Non-residents (USD)  Liabilities to Non-residents (USD)  \\\n",
       "2017M08                       43768.32                            33965.83   \n",
       "2017M09                       44318.40                            34351.03   \n",
       "2017M10                       44003.77                            34206.03   \n",
       "2017M11                       42813.27                            32917.80   \n",
       "2017M12                       47101.71                            37918.26   \n",
       "\n",
       "         Savings Rate  Lending Rate  Government Bonds  \\\n",
       "2017M08          4.36         10.25              9.12   \n",
       "2017M09          4.40         10.25              9.04   \n",
       "2017M10          4.41         10.25              9.40   \n",
       "2017M11          4.42         10.25              9.77   \n",
       "2017M12          4.44         10.25              9.47   \n",
       "\n",
       "         Financial Market Prices, Equities Index  Consumer Price Index  \n",
       "2017M08                                   167.16                146.40  \n",
       "2017M09                                   168.34                147.11  \n",
       "2017M10                                   175.15                147.53  \n",
       "2017M11                                   178.42                147.67  \n",
       "2017M12                                   170.16                148.38  "
      ]
     },
     "execution_count": 24,
     "metadata": {},
     "output_type": "execute_result"
    }
   ],
   "source": [
    "data.tail()"
   ]
  },
  {
   "cell_type": "code",
   "execution_count": 27,
   "id": "af614fbb",
   "metadata": {},
   "outputs": [
    {
     "name": "stdout",
     "output_type": "stream",
     "text": [
      "Absolute error for August 2017: [0.98117398]\n"
     ]
    }
   ],
   "source": [
    "actual_exchange_rate_aug_2017 =  data.iloc[-5, 0]\n",
    "\n",
    "absolute_error_aug_2017 = abs(actual_exchange_rate_aug_2017 - predicted_exchange_rate_aug_2017)\n",
    "\n",
    "print(\"Absolute error for August 2017:\", absolute_error_aug_2017)\n"
   ]
  },
  {
   "cell_type": "code",
   "execution_count": 30,
   "id": "775b0df7",
   "metadata": {},
   "outputs": [
    {
     "name": "stdout",
     "output_type": "stream",
     "text": [
      "Variable with the weakest linear relationship: Claims on Non-residents (USD)\n"
     ]
    }
   ],
   "source": [
    "df = data\n",
    "correlations = df.corr()\n",
    "target_correlations = correlations['ZAR/USD'].drop('ZAR/USD')\n",
    "weakest_variable = target_correlations.idxmin()\n",
    "\n",
    "print(\"Variable with the weakest linear relationship:\", weakest_variable)\n"
   ]
  },
  {
   "cell_type": "code",
   "execution_count": 31,
   "id": "a756cd99",
   "metadata": {},
   "outputs": [
    {
     "name": "stdout",
     "output_type": "stream",
     "text": [
      "Variable with the strongest linear relationship: Consumer Price Index\n"
     ]
    }
   ],
   "source": [
    "correlations = df.corr()\n",
    "target_correlations = correlations['ZAR/USD'].drop('ZAR/USD')\n",
    "strongest_variable = target_correlations.idxmax()\n",
    "\n",
    "print(\"Variable with the strongest linear relationship:\", strongest_variable)"
   ]
  },
  {
   "cell_type": "code",
   "execution_count": 32,
   "id": "0223641f",
   "metadata": {},
   "outputs": [
    {
     "name": "stdout",
     "output_type": "stream",
     "text": [
      "Training MSE of the Ridge model: 0.040232988276144833\n"
     ]
    }
   ],
   "source": [
    "from sklearn.preprocessing import StandardScaler\n",
    "from sklearn.linear_model import Ridge\n",
    "from sklearn.metrics import mean_squared_error\n",
    "from sklearn.model_selection import train_test_split\n",
    "\n",
    "# Split the original DataFrame into X (features) and y (target)\n",
    "X = df.drop('ZAR/USD', axis=1)\n",
    "y = df['ZAR/USD']\n",
    "\n",
    "# Standardize the features\n",
    "scaler = StandardScaler()\n",
    "X_scaled = scaler.fit_transform(X)\n",
    "\n",
    "# Create X_train, X_test, y_train, y_test using the same 80/20 split\n",
    "X_train, X_test, y_train, y_test = train_test_split(X_scaled, y, test_size=0.2, shuffle=False)\n",
    "\n",
    "# Train the Ridge model\n",
    "ridge = Ridge()\n",
    "ridge.fit(X_train, y_train)\n",
    "\n",
    "# Calculate the MSE on the training set\n",
    "y_pred_train = ridge.predict(X_train)\n",
    "mse_train = mean_squared_error(y_train, y_pred_train)\n",
    "\n",
    "print(\"Training MSE of the Ridge model:\", mse_train)\n"
   ]
  },
  {
   "cell_type": "code",
   "execution_count": 33,
   "id": "79529751",
   "metadata": {},
   "outputs": [
    {
     "name": "stdout",
     "output_type": "stream",
     "text": [
      "Training MSE of the LASSO model: 0.04695493921820656\n"
     ]
    }
   ],
   "source": [
    "from sklearn.preprocessing import StandardScaler\n",
    "from sklearn.linear_model import Lasso\n",
    "from sklearn.metrics import mean_squared_error\n",
    "from sklearn.model_selection import train_test_split\n",
    "\n",
    "# Split the original DataFrame into X (features) and y (target)\n",
    "X = df.drop('ZAR/USD', axis=1)\n",
    "y = df['ZAR/USD']\n",
    "\n",
    "# Standardize the features\n",
    "scaler = StandardScaler()\n",
    "X_scaled = scaler.fit_transform(X)\n",
    "\n",
    "# Create X_train, X_test, y_train, y_test using the same 80/20 split\n",
    "X_train, X_test, y_train, y_test = train_test_split(X_scaled, y, test_size=0.2, shuffle=False)\n",
    "\n",
    "# Train the LASSO model with alpha=0.01\n",
    "lasso = Lasso(alpha=0.01)\n",
    "lasso.fit(X_train, y_train)\n",
    "\n",
    "# Calculate the MSE on the training set\n",
    "y_pred_train = lasso.predict(X_train)\n",
    "mse_train = mean_squared_error(y_train, y_pred_train)\n",
    "\n",
    "print(\"Training MSE of the LASSO model:\", mse_train)\n"
   ]
  },
  {
   "cell_type": "code",
   "execution_count": 34,
   "id": "df928428",
   "metadata": {},
   "outputs": [
    {
     "name": "stdout",
     "output_type": "stream",
     "text": [
      "Testing MSE of the Ridge model: 0.6323866944567463\n"
     ]
    }
   ],
   "source": [
    "from sklearn.preprocessing import StandardScaler\n",
    "from sklearn.linear_model import Ridge\n",
    "from sklearn.metrics import mean_squared_error\n",
    "from sklearn.model_selection import train_test_split\n",
    "\n",
    "# Split the original DataFrame into X (features) and y (target)\n",
    "X = df.drop('ZAR/USD', axis=1)\n",
    "y = df['ZAR/USD']\n",
    "\n",
    "# Standardize the features\n",
    "scaler = StandardScaler()\n",
    "X_scaled = scaler.fit_transform(X)\n",
    "\n",
    "# Create X_train, X_test, y_train, y_test using the same 80/20 split\n",
    "X_train, X_test, y_train, y_test = train_test_split(X_scaled, y, test_size=0.2, shuffle=False)\n",
    "\n",
    "# Train the Ridge model\n",
    "ridge = Ridge()\n",
    "ridge.fit(X_train, y_train)\n",
    "\n",
    "# Calculate the MSE on the testing set\n",
    "y_pred_test = ridge.predict(X_test)\n",
    "mse_test = mean_squared_error(y_test, y_pred_test)\n",
    "\n",
    "print(\"Testing MSE of the Ridge model:\", mse_test)\n"
   ]
  },
  {
   "cell_type": "code",
   "execution_count": 35,
   "id": "cf30b6c3",
   "metadata": {},
   "outputs": [
    {
     "name": "stdout",
     "output_type": "stream",
     "text": [
      "Testing MSE of the LASSO model: 0.5790226574339906\n"
     ]
    }
   ],
   "source": [
    "from sklearn.preprocessing import StandardScaler\n",
    "from sklearn.linear_model import Lasso\n",
    "from sklearn.metrics import mean_squared_error\n",
    "from sklearn.model_selection import train_test_split\n",
    "\n",
    "# Split the original DataFrame into X (features) and y (target)\n",
    "X = df.drop('ZAR/USD', axis=1)\n",
    "y = df['ZAR/USD']\n",
    "\n",
    "# Standardize the features\n",
    "scaler = StandardScaler()\n",
    "X_scaled = scaler.fit_transform(X)\n",
    "\n",
    "# Create X_train, X_test, y_train, y_test using the same 80/20 split\n",
    "X_train, X_test, y_train, y_test = train_test_split(X_scaled, y, test_size=0.2, shuffle=False)\n",
    "\n",
    "# Train the LASSO model with alpha=0.01\n",
    "lasso = Lasso(alpha=0.01)\n",
    "lasso.fit(X_train, y_train)\n",
    "\n",
    "# Calculate the MSE on the testing set\n",
    "y_pred_test = lasso.predict(X_test)\n",
    "mse_test = mean_squared_error(y_test, y_pred_test)\n",
    "\n",
    "print(\"Testing MSE of the LASSO model:\", mse_test)\n"
   ]
  },
  {
   "cell_type": "code",
   "execution_count": 40,
   "id": "c3739c15",
   "metadata": {},
   "outputs": [
    {
     "name": "stdout",
     "output_type": "stream",
     "text": [
      "Best predictor of the target variable: Value of Exports (USD)\n"
     ]
    }
   ],
   "source": [
    "from sklearn.preprocessing import StandardScaler\n",
    "from sklearn.linear_model import Ridge\n",
    "from sklearn.model_selection import train_test_split\n",
    "\n",
    "# Split the original DataFrame into X (features) and y (target)\n",
    "X = df.drop('ZAR/USD', axis=1)\n",
    "y = df['ZAR/USD']\n",
    "\n",
    "# Standardize the features\n",
    "scaler = StandardScaler()\n",
    "X_scaled = scaler.fit_transform(X)\n",
    "\n",
    "# Create X_train, X_test, y_train, y_test using the same 80/20 split\n",
    "X_train, X_test, y_train, y_test = train_test_split(X_scaled, y, test_size=0.2, shuffle=False)\n",
    "\n",
    "# Train the Ridge model\n",
    "ridge = Ridge()\n",
    "ridge.fit(X_train, y_train)\n",
    "\n",
    "# Get the variable coefficients\n",
    "coefficients = ridge.coef_\n",
    "\n",
    "# Find the best predictor\n",
    "best_predictor_index = coefficients.argmax()\n",
    "\n",
    "# Get the column name of the best predictor\n",
    "best_predictor = df.columns[best_predictor_index]\n",
    "\n",
    "print(\"Best predictor of the target variable:\", best_predictor)\n"
   ]
  },
  {
   "cell_type": "code",
   "execution_count": 38,
   "id": "9a622f83",
   "metadata": {},
   "outputs": [
    {
     "name": "stdout",
     "output_type": "stream",
     "text": [
      "Worst predictor of the target variable: Value of Exports (ZAR)\n"
     ]
    }
   ],
   "source": [
    "from sklearn.preprocessing import StandardScaler\n",
    "from sklearn.linear_model import Ridge\n",
    "from sklearn.model_selection import train_test_split\n",
    "\n",
    "# Split the original DataFrame into X (features) and y (target)\n",
    "X = df.drop('ZAR/USD', axis=1)\n",
    "y = df['ZAR/USD']\n",
    "\n",
    "# Standardize the features\n",
    "scaler = StandardScaler()\n",
    "X_scaled = scaler.fit_transform(X)\n",
    "\n",
    "# Create X_train, X_test, y_train, y_test using the same 80/20 split\n",
    "X_train, X_test, y_train, y_test = train_test_split(X_scaled, y, test_size=0.2, shuffle=False)\n",
    "\n",
    "# Train the Ridge model\n",
    "ridge = Ridge()\n",
    "ridge.fit(X_train, y_train)\n",
    "\n",
    "# Get the variable coefficients\n",
    "coefficients = ridge.coef_\n",
    "\n",
    "# Find the worst predictor\n",
    "worst_predictor_index = coefficients.argmin()\n",
    "\n",
    "# Get the column name of the worst predictor\n",
    "worst_predictor = df.columns[worst_predictor_index]\n",
    "\n",
    "print(\"Worst predictor of the target variable:\", worst_predictor)\n"
   ]
  },
  {
   "cell_type": "code",
   "execution_count": 48,
   "id": "eb8dd436",
   "metadata": {},
   "outputs": [
    {
     "name": "stdout",
     "output_type": "stream",
     "text": [
      "Top 3 best predictors of the target variable:\n",
      "ZAR/USD\n",
      "Financial Market Prices, Equities Index\n",
      "Value of Exports (ZAR)\n",
      "Value of Imports (USD)\n"
     ]
    }
   ],
   "source": [
    "from sklearn.preprocessing import StandardScaler\n",
    "from sklearn.linear_model import Ridge\n",
    "from sklearn.model_selection import train_test_split\n",
    "\n",
    "# Split the original DataFrame into X (features) and y (target)\n",
    "X = df.drop('ZAR/USD', axis=1)\n",
    "y = df['ZAR/USD']\n",
    "\n",
    "# Standardize the features\n",
    "scaler = StandardScaler()\n",
    "X_scaled = scaler.fit_transform(X)\n",
    "\n",
    "# Create X_train, X_test, y_train, y_test using the same 80/20 split\n",
    "X_train, X_test, y_train, y_test = train_test_split(X_scaled, y, test_size=0.2, shuffle=False)\n",
    "\n",
    "# Train the Ridge model\n",
    "ridge = Ridge()\n",
    "ridge.fit(X_train, y_train)\n",
    "\n",
    "# Get the variable coefficients\n",
    "coefficients = ridge.coef_\n",
    "\n",
    "# Find the top 3 best predictors\n",
    "top_3_predictor_indices = abs(coefficients).argsort()[-5:][:-1]\n",
    "\n",
    "# Get the column names of the top 3 best predictors\n",
    "top_3_predictors = df.columns[top_3_predictor_indices]\n",
    "\n",
    "print(\"Top 3 best predictors of the target variable:\")\n",
    "for predictor in top_3_predictors:\n",
    "    print(predictor)\n"
   ]
  },
  {
   "cell_type": "code",
   "execution_count": 46,
   "id": "6878efde",
   "metadata": {},
   "outputs": [
    {
     "name": "stdout",
     "output_type": "stream",
     "text": [
      "Worst 3 predictors of the target variable:\n",
      "Claims on Non-residents (USD)\n",
      "Lending Rate\n",
      "Value of Imports (ZAR)\n",
      "Foreign Exchange (USD)\n",
      "Liabilities to Non-residents (USD)\n"
     ]
    }
   ],
   "source": [
    "from sklearn.preprocessing import StandardScaler\n",
    "from sklearn.linear_model import Ridge\n",
    "from sklearn.model_selection import train_test_split\n",
    "\n",
    "# Split the original DataFrame into X (features) and y (target)\n",
    "X = df.drop('ZAR/USD', axis=1)\n",
    "y = df['ZAR/USD']\n",
    "\n",
    "# Standardize the features\n",
    "scaler = StandardScaler()\n",
    "X_scaled = scaler.fit_transform(X)\n",
    "\n",
    "# Create X_train, X_test, y_train, y_test using the same 80/20 split\n",
    "X_train, X_test, y_train, y_test = train_test_split(X_scaled, y, test_size=0.2, shuffle=False)\n",
    "\n",
    "# Train the Ridge model\n",
    "ridge = Ridge()\n",
    "ridge.fit(X_train, y_train)\n",
    "\n",
    "# Get the variable coefficients\n",
    "coefficients = ridge.coef_\n",
    "\n",
    "# Find the worst 3 predictors\n",
    "worst_3_predictor_indices = abs(coefficients).argsort()[:5]\n",
    "\n",
    "# Get the column names of the worst 3 predictors\n",
    "worst_3_predictors = df.columns[worst_3_predictor_indices]\n",
    "\n",
    "print(\"Worst 3 predictors of the target variable:\")\n",
    "for predictor in worst_3_predictors:\n",
    "    print(predictor)\n"
   ]
  },
  {
   "cell_type": "code",
   "execution_count": 50,
   "id": "faf51d4f",
   "metadata": {},
   "outputs": [
    {
     "name": "stdout",
     "output_type": "stream",
     "text": [
      "Top 3 predictors of the target variable:\n",
      "Value of Imports (USD)\n",
      "Value of Exports (USD)\n",
      "Value of Exports (ZAR)\n"
     ]
    }
   ],
   "source": [
    "from sklearn.preprocessing import StandardScaler\n",
    "from sklearn.linear_model import Lasso\n",
    "from sklearn.model_selection import train_test_split\n",
    "\n",
    "# Split the original DataFrame into X (features) and y (target)\n",
    "X = df.drop('ZAR/USD', axis=1)\n",
    "y = df['ZAR/USD']\n",
    "\n",
    "# Standardize the features\n",
    "scaler = StandardScaler()\n",
    "X_scaled = scaler.fit_transform(X)\n",
    "\n",
    "# Create X_train, X_test, y_train, y_test using the same 80/20 split\n",
    "X_train, X_test, y_train, y_test = train_test_split(X_scaled, y, test_size=0.2, shuffle=False)\n",
    "\n",
    "# Train the LASSO model\n",
    "lasso = Lasso(alpha=0.01)\n",
    "lasso.fit(X_train, y_train)\n",
    "\n",
    "# Get the variable coefficients\n",
    "coefficients = lasso.coef_\n",
    "\n",
    "# Find the top 3 predictors\n",
    "top_3_predictor_indices = abs(coefficients).argsort()[:-4:-1]\n",
    "\n",
    "# Get the column names of the top 3 predictors\n",
    "top_3_predictors = df.columns[top_3_predictor_indices]\n",
    "\n",
    "print(\"Top 3 predictors of the target variable:\")\n",
    "for predictor in top_3_predictors:\n",
    "    print(predictor)\n"
   ]
  },
  {
   "cell_type": "code",
   "execution_count": 51,
   "id": "5c02b9ae",
   "metadata": {},
   "outputs": [
    {
     "name": "stdout",
     "output_type": "stream",
     "text": [
      "Number of variables with coefficients equal to zero: 4\n"
     ]
    }
   ],
   "source": [
    "from sklearn.preprocessing import StandardScaler\n",
    "from sklearn.linear_model import Lasso\n",
    "from sklearn.model_selection import train_test_split\n",
    "\n",
    "# Split the original DataFrame into X (features) and y (target)\n",
    "X = df.drop('ZAR/USD', axis=1)\n",
    "y = df['ZAR/USD']\n",
    "\n",
    "# Standardize the features\n",
    "scaler = StandardScaler()\n",
    "X_scaled = scaler.fit_transform(X)\n",
    "\n",
    "# Create X_train, X_test, y_train, y_test using the same 80/20 split\n",
    "X_train, X_test, y_train, y_test = train_test_split(X_scaled, y, test_size=0.2, shuffle=False)\n",
    "\n",
    "# Train the LASSO model\n",
    "lasso = Lasso(alpha=0.01)\n",
    "lasso.fit(X_train, y_train)\n",
    "\n",
    "# Get the variable coefficients\n",
    "coefficients = lasso.coef_\n",
    "\n",
    "# Count the number of zero coefficients\n",
    "num_zero_coefficients = sum(coefficients == 0)\n",
    "\n",
    "print(\"Number of variables with coefficients equal to zero:\", num_zero_coefficients)\n"
   ]
  },
  {
   "cell_type": "code",
   "execution_count": 54,
   "id": "076dbd93",
   "metadata": {},
   "outputs": [
    {
     "name": "stdout",
     "output_type": "stream",
     "text": [
      "Proportion of individuals classified as overweight or obese: 0.8153961136023916\n"
     ]
    }
   ],
   "source": [
    "import pandas as pd\n",
    "\n",
    "# Load the claims data into a DataFrame\n",
    "claims_data = pd.read_csv('claims_data.csv')\n",
    "\n",
    "# Calculate the proportion of individuals classified as overweight or obese\n",
    "overweight_obese_proportion = (claims_data['bmi'] > 25).mean()\n",
    "\n",
    "print(\"Proportion of individuals classified as overweight or obese:\", overweight_obese_proportion)\n"
   ]
  },
  {
   "cell_type": "code",
   "execution_count": 53,
   "id": "9dfaf4a3",
   "metadata": {},
   "outputs": [
    {
     "data": {
      "text/html": [
       "<div>\n",
       "<style scoped>\n",
       "    .dataframe tbody tr th:only-of-type {\n",
       "        vertical-align: middle;\n",
       "    }\n",
       "\n",
       "    .dataframe tbody tr th {\n",
       "        vertical-align: top;\n",
       "    }\n",
       "\n",
       "    .dataframe thead th {\n",
       "        text-align: right;\n",
       "    }\n",
       "</style>\n",
       "<table border=\"1\" class=\"dataframe\">\n",
       "  <thead>\n",
       "    <tr style=\"text-align: right;\">\n",
       "      <th></th>\n",
       "      <th>age</th>\n",
       "      <th>sex</th>\n",
       "      <th>bmi</th>\n",
       "      <th>steps</th>\n",
       "      <th>children</th>\n",
       "      <th>smoker</th>\n",
       "      <th>region</th>\n",
       "      <th>insurance_claim</th>\n",
       "      <th>claim_amount</th>\n",
       "    </tr>\n",
       "  </thead>\n",
       "  <tbody>\n",
       "    <tr>\n",
       "      <th>0</th>\n",
       "      <td>19</td>\n",
       "      <td>female</td>\n",
       "      <td>27.900</td>\n",
       "      <td>3009</td>\n",
       "      <td>0</td>\n",
       "      <td>yes</td>\n",
       "      <td>southwest</td>\n",
       "      <td>yes</td>\n",
       "      <td>16884.9240</td>\n",
       "    </tr>\n",
       "    <tr>\n",
       "      <th>1</th>\n",
       "      <td>18</td>\n",
       "      <td>male</td>\n",
       "      <td>33.770</td>\n",
       "      <td>3008</td>\n",
       "      <td>1</td>\n",
       "      <td>no</td>\n",
       "      <td>southeast</td>\n",
       "      <td>yes</td>\n",
       "      <td>1725.5523</td>\n",
       "    </tr>\n",
       "    <tr>\n",
       "      <th>2</th>\n",
       "      <td>28</td>\n",
       "      <td>male</td>\n",
       "      <td>33.000</td>\n",
       "      <td>3009</td>\n",
       "      <td>3</td>\n",
       "      <td>no</td>\n",
       "      <td>southeast</td>\n",
       "      <td>no</td>\n",
       "      <td>0.0000</td>\n",
       "    </tr>\n",
       "    <tr>\n",
       "      <th>3</th>\n",
       "      <td>33</td>\n",
       "      <td>male</td>\n",
       "      <td>22.705</td>\n",
       "      <td>10009</td>\n",
       "      <td>0</td>\n",
       "      <td>no</td>\n",
       "      <td>northwest</td>\n",
       "      <td>no</td>\n",
       "      <td>0.0000</td>\n",
       "    </tr>\n",
       "    <tr>\n",
       "      <th>4</th>\n",
       "      <td>32</td>\n",
       "      <td>male</td>\n",
       "      <td>28.880</td>\n",
       "      <td>8010</td>\n",
       "      <td>0</td>\n",
       "      <td>no</td>\n",
       "      <td>northwest</td>\n",
       "      <td>yes</td>\n",
       "      <td>3866.8552</td>\n",
       "    </tr>\n",
       "  </tbody>\n",
       "</table>\n",
       "</div>"
      ],
      "text/plain": [
       "   age     sex     bmi  steps  children smoker     region insurance_claim  \\\n",
       "0   19  female  27.900   3009         0    yes  southwest             yes   \n",
       "1   18    male  33.770   3008         1     no  southeast             yes   \n",
       "2   28    male  33.000   3009         3     no  southeast              no   \n",
       "3   33    male  22.705  10009         0     no  northwest              no   \n",
       "4   32    male  28.880   8010         0     no  northwest             yes   \n",
       "\n",
       "   claim_amount  \n",
       "0    16884.9240  \n",
       "1     1725.5523  \n",
       "2        0.0000  \n",
       "3        0.0000  \n",
       "4     3866.8552  "
      ]
     },
     "execution_count": 53,
     "metadata": {},
     "output_type": "execute_result"
    }
   ],
   "source": [
    "claims_data.head()"
   ]
  },
  {
   "cell_type": "code",
   "execution_count": 58,
   "id": "03c25a39",
   "metadata": {},
   "outputs": [
    {
     "name": "stdout",
     "output_type": "stream",
     "text": [
      "The data has higher variance than the mean, suggesting overdispersion.\n"
     ]
    },
    {
     "data": {
      "image/png": "[encoded data removed]",
      "text/plain": [
       "<Figure size 432x288 with 1 Axes>"
      ]
     },
     "metadata": {
      "needs_background": "light"
     },
     "output_type": "display_data"
    }
   ],
   "source": [
    "import pandas as pd\n",
    "from scipy.stats import poisson\n",
    "import matplotlib.pyplot as plt\n",
    "\n",
    "# Load the dataset into a DataFrame\n",
    "data = claims_data\n",
    "\n",
    "# Calculate the mean and variance of the number of children\n",
    "mean_children = data['children'].mean()\n",
    "var_children = data['children'].var()\n",
    "\n",
    "# Compare mean and variance\n",
    "if mean_children == var_children:\n",
    "    print(\"The data has approximately equal mean and variance, suggesting a Poisson distribution.\")\n",
    "elif var_children > mean_children:\n",
    "    print(\"The data has higher variance than the mean, suggesting overdispersion.\")\n",
    "else:\n",
    "    print(\"The data has lower variance than the mean, suggesting underdispersion.\")\n",
    "\n",
    "# Plot the histogram of the number of children\n",
    "data['children'].plot(kind='hist', bins=max(data['children'])+1, edgecolor='black')\n",
    "plt.xlabel(\"Number of Children\")\n",
    "plt.ylabel(\"Frequency\")\n",
    "plt.title(\"Distribution of Number of Children\")\n",
    "\n",
    "# Fit Poisson distribution to the data and plot the probability mass function (PMF)\n",
    "x = range(0, max(data['children'])+1)\n",
    "pmf = poisson.pmf(x, mu=mean_children)\n",
    "plt.plot(x, pmf, 'bo', ms=8, label='Poisson PMF')\n",
    "plt.legend()\n",
    "\n",
    "plt.show()\n"
   ]
  },
  {
   "cell_type": "code",
   "execution_count": 59,
   "id": "2149b39a",
   "metadata": {
    "scrolled": true
   },
   "outputs": [
    {
     "name": "stdout",
     "output_type": "stream",
     "text": [
      "Difference in the number of individuals aged 60 or older:\n",
      "21.081512331779948\n"
     ]
    }
   ],
   "source": [
    "import pandas as pd\n",
    "import numpy as np\n",
    "from scipy.stats import norm\n",
    "\n",
    "# Load the dataset into a DataFrame\n",
    "data = pd.read_csv('claims_data.csv')\n",
    "\n",
    "# Calculate the mean and standard deviation of age\n",
    "mean_age = data['age'].mean()\n",
    "std_age = data['age'].std()\n",
    "\n",
    "# Set the cutoff age\n",
    "cutoff_age = 60\n",
    "\n",
    "# Calculate the expected proportion of individuals younger than 60\n",
    "prob_younger = norm.cdf(cutoff_age, mean_age, std_age)\n",
    "\n",
    "# Calculate the expected number of individuals aged 60 or older\n",
    "total_individuals = len(data)\n",
    "expected_60_or_older = (1 - prob_younger) * total_individuals\n",
    "\n",
    "# Calculate the actual number of individuals aged 60 or older\n",
    "actual_60_or_older = len(data[data['age'] >= cutoff_age])\n",
    "\n",
    "# Compare the expected and actual numbers\n",
    "difference = actual_60_or_older - expected_60_or_older\n",
    "\n",
    "print(\"Difference in the number of individuals aged 60 or older:\")\n",
    "print(difference)\n"
   ]
  },
  {
   "cell_type": "code",
   "execution_count": 60,
   "id": "1222ced9",
   "metadata": {},
   "outputs": [
    {
     "data": {
      "image/png": "[encoded data removed]",
      "text/plain": [
       "<Figure size 432x432 with 3 Axes>"
      ]
     },
     "metadata": {
      "needs_background": "light"
     },
     "output_type": "display_data"
    }
   ],
   "source": [
    "import pandas as pd\n",
    "import seaborn as sns\n",
    "\n",
    "# Load the dataset into a DataFrame\n",
    "data = pd.read_csv('claims_data.csv')\n",
    "\n",
    "# Create a joint plot\n",
    "sns.jointplot(data=data, x='age', y='bmi')\n",
    "\n",
    "# Display the plot\n",
    "plt.show()\n"
   ]
  },
  {
   "cell_type": "code",
   "execution_count": 62,
   "id": "580aff62",
   "metadata": {},
   "outputs": [
    {
     "name": "stdout",
     "output_type": "stream",
     "text": [
      "Proportion of correctly predicted claim indicators: 0.8733031674208145\n"
     ]
    }
   ],
   "source": [
    "import pandas as pd\n",
    "from sklearn.model_selection import train_test_split\n",
    "from sklearn.linear_model import LogisticRegression\n",
    "from sklearn.preprocessing import StandardScaler\n",
    "from sklearn.metrics import accuracy_score\n",
    "\n",
    "# Load the dataset into a DataFrame\n",
    "data = pd.read_csv('claims_data.csv')\n",
    "\n",
    "# Separate the features (X) and the target variable (y)\n",
    "X = data.drop(['insurance_claim', 'claim_amount'], axis=1)\n",
    "y = data['insurance_claim']\n",
    "\n",
    "# Create dummy variables for categorical variables\n",
    "X = pd.get_dummies(X, drop_first=True)\n",
    "\n",
    "# Convert target variable to binary (0 or 1)\n",
    "y = y.map({'no': 0, 'yes': 1})\n",
    "\n",
    "# Perform train-test split\n",
    "X_train, X_test, y_train, y_test = train_test_split(X, y, test_size=0.33, random_state=42)\n",
    "\n",
    "# Scale the features\n",
    "scaler = StandardScaler()\n",
    "X_train_scaled = scaler.fit_transform(X_train)\n",
    "X_test_scaled = scaler.transform(X_test)\n",
    "\n",
    "# Fit the logistic regression model\n",
    "logreg = LogisticRegression()\n",
    "logreg.fit(X_train_scaled, y_train)\n",
    "\n",
    "# Predict the target variable on the test set\n",
    "y_pred = logreg.predict(X_test_scaled)\n",
    "\n",
    "# Calculate the proportion of correctly predicted claim indicators\n",
    "accuracy = accuracy_score(y_test, y_pred)\n",
    "\n",
    "# Print the proportion of correctly predicted claim indicators\n",
    "print(\"Proportion of correctly predicted claim indicators:\", accuracy)\n"
   ]
  },
  {
   "cell_type": "code",
   "execution_count": 71,
   "id": "5ddc2705",
   "metadata": {},
   "outputs": [
    {
     "data": {
      "text/html": [
       "<div>\n",
       "<style scoped>\n",
       "    .dataframe tbody tr th:only-of-type {\n",
       "        vertical-align: middle;\n",
       "    }\n",
       "\n",
       "    .dataframe tbody tr th {\n",
       "        vertical-align: top;\n",
       "    }\n",
       "\n",
       "    .dataframe thead th {\n",
       "        text-align: right;\n",
       "    }\n",
       "</style>\n",
       "<table border=\"1\" class=\"dataframe\">\n",
       "  <thead>\n",
       "    <tr style=\"text-align: right;\">\n",
       "      <th></th>\n",
       "      <th>age</th>\n",
       "      <th>sex</th>\n",
       "      <th>bmi</th>\n",
       "      <th>steps</th>\n",
       "      <th>children</th>\n",
       "      <th>smoker</th>\n",
       "      <th>region</th>\n",
       "      <th>insurance_claim</th>\n",
       "      <th>claim_amount</th>\n",
       "    </tr>\n",
       "  </thead>\n",
       "  <tbody>\n",
       "    <tr>\n",
       "      <th>0</th>\n",
       "      <td>19</td>\n",
       "      <td>female</td>\n",
       "      <td>27.900</td>\n",
       "      <td>3009</td>\n",
       "      <td>0</td>\n",
       "      <td>yes</td>\n",
       "      <td>southwest</td>\n",
       "      <td>yes</td>\n",
       "      <td>16884.9240</td>\n",
       "    </tr>\n",
       "    <tr>\n",
       "      <th>1</th>\n",
       "      <td>18</td>\n",
       "      <td>male</td>\n",
       "      <td>33.770</td>\n",
       "      <td>3008</td>\n",
       "      <td>1</td>\n",
       "      <td>no</td>\n",
       "      <td>southeast</td>\n",
       "      <td>yes</td>\n",
       "      <td>1725.5523</td>\n",
       "    </tr>\n",
       "    <tr>\n",
       "      <th>2</th>\n",
       "      <td>28</td>\n",
       "      <td>male</td>\n",
       "      <td>33.000</td>\n",
       "      <td>3009</td>\n",
       "      <td>3</td>\n",
       "      <td>no</td>\n",
       "      <td>southeast</td>\n",
       "      <td>no</td>\n",
       "      <td>0.0000</td>\n",
       "    </tr>\n",
       "    <tr>\n",
       "      <th>3</th>\n",
       "      <td>33</td>\n",
       "      <td>male</td>\n",
       "      <td>22.705</td>\n",
       "      <td>10009</td>\n",
       "      <td>0</td>\n",
       "      <td>no</td>\n",
       "      <td>northwest</td>\n",
       "      <td>no</td>\n",
       "      <td>0.0000</td>\n",
       "    </tr>\n",
       "    <tr>\n",
       "      <th>4</th>\n",
       "      <td>32</td>\n",
       "      <td>male</td>\n",
       "      <td>28.880</td>\n",
       "      <td>8010</td>\n",
       "      <td>0</td>\n",
       "      <td>no</td>\n",
       "      <td>northwest</td>\n",
       "      <td>yes</td>\n",
       "      <td>3866.8552</td>\n",
       "    </tr>\n",
       "  </tbody>\n",
       "</table>\n",
       "</div>"
      ],
      "text/plain": [
       "   age     sex     bmi  steps  children smoker     region insurance_claim  \\\n",
       "0   19  female  27.900   3009         0    yes  southwest             yes   \n",
       "1   18    male  33.770   3008         1     no  southeast             yes   \n",
       "2   28    male  33.000   3009         3     no  southeast              no   \n",
       "3   33    male  22.705  10009         0     no  northwest              no   \n",
       "4   32    male  28.880   8010         0     no  northwest             yes   \n",
       "\n",
       "   claim_amount  \n",
       "0    16884.9240  \n",
       "1     1725.5523  \n",
       "2        0.0000  \n",
       "3        0.0000  \n",
       "4     3866.8552  "
      ]
     },
     "execution_count": 71,
     "metadata": {},
     "output_type": "execute_result"
    }
   ],
   "source": [
    "data.head()"
   ]
  },
  {
   "cell_type": "code",
   "execution_count": 79,
   "id": "03e766ba",
   "metadata": {},
   "outputs": [
    {
     "name": "stdout",
     "output_type": "stream",
     "text": [
      "[[161  20]\n",
      " [ 33 228]]\n"
     ]
    }
   ],
   "source": [
    "from sklearn.ensemble import RandomForestClassifier\n",
    "\n",
    "# Fit a random forest classifier\n",
    "rf = RandomForestClassifier(n_estimators=100, random_state=101)\n",
    "rf.fit(X_train_scaled, y_train)\n",
    "\n",
    "# Predict on the test data\n",
    "y_pred = rf.predict(X_test_scaled)\n",
    "\n",
    "# Evaluate the model\n",
    "from sklearn.metrics import confusion_matrix\n",
    "\n",
    "cm = confusion_matrix(y_test, y_pred)\n",
    "print(cm)\n"
   ]
  },
  {
   "cell_type": "code",
   "execution_count": 80,
   "id": "854ccf0f",
   "metadata": {},
   "outputs": [
    {
     "ename": "SyntaxError",
     "evalue": "EOL while scanning string literal (Temp/ipykernel_10432/2743466043.py, line 32)",
     "output_type": "error",
     "traceback": [
      "\u001b[1;36m  File \u001b[1;32m\"C:\\Users\\HPPAVI~1\\AppData\\Local\\Temp/ipykernel_10432/2743466043.py\"\u001b[1;36m, line \u001b[1;32m32\u001b[0m\n\u001b[1;33m    print(\"Sigmoid kernel yields the best accuracy on the test data\u001b[0m\n\u001b[1;37m                                                                   ^\u001b[0m\n\u001b[1;31mSyntaxError\u001b[0m\u001b[1;31m:\u001b[0m EOL while scanning string literal\n"
     ]
    }
   ],
   "source": [
    "from sklearn.svm import SVC\n",
    "from sklearn.metrics import accuracy_score\n",
    "\n",
    "# Fit SVM models with different kernels\n",
    "svm_radial = SVC(kernel='rbf')  # Radial kernel\n",
    "svm_sigmoid = SVC(kernel='sigmoid')  # Sigmoid kernel\n",
    "svm_linear = SVC(kernel='linear')  # Linear kernel\n",
    "\n",
    "# Train the models on the training data\n",
    "svm_radial.fit(X_train_scaled, y_train)\n",
    "svm_sigmoid.fit(X_train_scaled, y_train)\n",
    "svm_linear.fit(X_train_scaled, y_train)\n",
    "\n",
    "# Predict the labels for the test data\n",
    "y_pred_radial = svm_radial.predict(X_test_scaled)\n",
    "y_pred_sigmoid = svm_sigmoid.predict(X_test_scaled)\n",
    "y_pred_linear = svm_linear.predict(X_test_scaled)\n",
    "\n",
    "# Calculate accuracies\n",
    "accuracy_radial = accuracy_score(y_test, y_pred_radial)\n",
    "accuracy_sigmoid = accuracy_score(y_test, y_pred_sigmoid)\n",
    "accuracy_linear = accuracy_score(y_test, y_pred_linear)\n",
    "\n",
    "# Compare accuracies\n",
    "if accuracy_radial > accuracy_sigmoid and accuracy_radial > accuracy_linear:\n",
    "    print(\"Radial kernel yields the best accuracy on the test data.\")\n",
    "elif accuracy_linear > accuracy_sigmoid and accuracy_linear > accuracy_radial:\n",
    "    print(\"Linear kernel yields the best accuracy on the test data.\")\n",
    "elif abs(accuracy_radial - accuracy_linear) < 0.01:\n",
    "    print(\"Radial and linear kernels yield very similar accuracies on the test data.\")\n",
    "else:\n",
    "    print(\"Sigmoid kernel yields the best accuracy on the test data\n"
   ]
  },
  {
   "cell_type": "code",
   "execution_count": null,
   "id": "b299d561",
   "metadata": {},
   "outputs": [],
   "source": []
  }
 ],
 "metadata": {
  "kernelspec": {
   "display_name": "Python 3 (ipykernel)",
   "language": "python",
   "name": "python3"
  },
  "language_info": {
   "codemirror_mode": {
    "name": "ipython",
    "version": 3
   },
   "file_extension": ".py",
   "mimetype": "text/x-python",
   "name": "python",
   "nbconvert_exporter": "python",
   "pygments_lexer": "ipython3",
   "version": "3.9.7"
  }
 },
 "nbformat": 4,
 "nbformat_minor": 5
}
